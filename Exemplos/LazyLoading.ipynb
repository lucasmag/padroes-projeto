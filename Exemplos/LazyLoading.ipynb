{
 "cells": [
  {
   "cell_type": "markdown",
   "metadata": {},
   "source": [
    "### Lazy Loading é a tática de atrasar a criação de um objeto, o cálculo de um valor ou algum outro processo caro até a primeira vez que for necessário."
   ]
  },
  {
   "cell_type": "code",
   "execution_count": 9,
   "metadata": {},
   "outputs": [],
   "source": [
    "class Car(object):\n",
    "    def __init__(self, brand) -> None:\n",
    "        self.brand = brand"
   ]
  },
  {
   "cell_type": "code",
   "execution_count": 13,
   "metadata": {},
   "outputs": [],
   "source": [
    "class CarsLazyInit(object):\n",
    "    def __init__(self):\n",
    "        self.list = {}\n",
    "    \n",
    "    def get_car(self, car):\n",
    "        if car not in self.list:\n",
    "            print(\"Carro não existe, criando carro...\")\n",
    "            self.list[car] = Car(car)\n",
    "        \n",
    "        return \"Memory Address: {} | Carro criado: {}\".format(self.list[car], self.list[car].brand)"
   ]
  },
  {
   "cell_type": "code",
   "execution_count": 17,
   "metadata": {},
   "outputs": [],
   "source": [
    "class Cars(object):\n",
    "    def __init__(self):\n",
    "        self.list = {}\n",
    "    \n",
    "    def get_car(self, car):\n",
    "        if car not in self.list:\n",
    "            print(\"Carro não existe, criando carro...\")\n",
    "            self.list[car] = Car(car)\n",
    "        \n",
    "        return \"Memory Address: {} | Carro criado: {}\".format(self.list[car], self.list[car].brand)"
   ]
  },
  {
   "cell_type": "code",
   "execution_count": 18,
   "metadata": {},
   "outputs": [],
   "source": [
    "if __name__ == '__main__':\n",
    "    cars = CarsLazyInit()"
   ]
  },
  {
   "cell_type": "code",
   "execution_count": 19,
   "metadata": {},
   "outputs": [
    {
     "name": "stdout",
     "output_type": "stream",
     "text": [
      "Carro não existe, criando carro...\n",
      "Memory Address: <__main__.Car object at 0x000001EA64E384E0> | Carro criado: Fiat\n",
      "Memory Address: <__main__.Car object at 0x000001EA64E384E0> | Carro criado: Fiat\n",
      "Carro não existe, criando carro...\n",
      "Memory Address: <__main__.Car object at 0x000001EA64E38518> | Carro criado: Honda\n"
     ]
    }
   ],
   "source": [
    "print(cars.get_car('Fiat'))\n",
    "print(cars.get_car('Fiat'))\n",
    "print(cars.get_car('Honda'))"
   ]
  }
 ],
 "metadata": {
  "kernelspec": {
   "display_name": "'Python Interactive'",
   "language": "python",
   "name": "b9907f83-a839-4e48-b9e2-1558370da779"
  },
  "language_info": {
   "codemirror_mode": {
    "name": "ipython",
    "version": 3
   },
   "file_extension": ".py",
   "mimetype": "text/x-python",
   "name": "python",
   "nbconvert_exporter": "python",
   "pygments_lexer": "ipython3",
   "version": "3.7.3"
  }
 },
 "nbformat": 4,
 "nbformat_minor": 2
}
